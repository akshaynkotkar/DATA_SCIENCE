{
 "cells": [
  {
   "cell_type": "markdown",
   "id": "3f84c5ae-60cb-4adb-957d-38ee8a2b13d3",
   "metadata": {},
   "source": [
    "## Data Interpolation\n",
    "Data interpolation is the process of estimating unknown values within a dataset based on the known values. In Python, there are various libraries available that can be used for data interpolation, such as NumPy, SciPy, and Pandas. Here is an example of how to perform data interpolation using the NumPy library:"
   ]
  },
  {
   "cell_type": "markdown",
   "id": "0678d98c-8a85-4fbd-b320-feb9acba8934",
   "metadata": {},
   "source": [
    "## 1. Linear Interpolation"
   ]
  },
  {
   "cell_type": "code",
   "execution_count": 13,
   "id": "db465944-7332-4547-9c32-c4cdaa1319a6",
   "metadata": {},
   "outputs": [],
   "source": [
    "import numpy as np\n",
    "x=np.array([1,2,3,4,5])\n",
    "y=np.array([2,4,6,8,10])"
   ]
  },
  {
   "cell_type": "code",
   "execution_count": 14,
   "id": "a4b5b574-7d07-4cd1-8c5e-3bc32edb81c2",
   "metadata": {},
   "outputs": [
    {
     "data": {
      "text/plain": [
       "<matplotlib.collections.PathCollection at 0x29f2cc1d840>"
      ]
     },
     "execution_count": 14,
     "metadata": {},
     "output_type": "execute_result"
    },
    {
     "data": {
      "image/png": "[encoded data removed]",
      "text/plain": [
       "<Figure size 432x288 with 1 Axes>"
      ]
     },
     "metadata": {
      "needs_background": "light"
     },
     "output_type": "display_data"
    }
   ],
   "source": [
    "import matplotlib.pyplot as plt\n",
    "plt.scatter(x,y)"
   ]
  },
  {
   "cell_type": "code",
   "execution_count": 15,
   "id": "a293cae7-1717-4547-b89b-aa66fc2e3a7d",
   "metadata": {},
   "outputs": [
    {
     "name": "stdout",
     "output_type": "stream",
     "text": [
      "The value of new nums [1.         1.44444444 1.88888889 2.33333333 2.77777778 3.22222222\n",
      " 3.66666667 4.11111111 4.55555556 5.        ]\n",
      "[ 2.          2.88888889  3.77777778  4.66666667  5.55555556  6.44444444\n",
      "  7.33333333  8.22222222  9.11111111 10.        ]\n"
     ]
    }
   ],
   "source": [
    "## interpolate the data using linear interpolation\n",
    "x_new=np.linspace(1,5,10) ##create new x values\n",
    "print(\"The value of new nums\" ,x_new)\n",
    "y_interp=np.interp(x_new,x,y) ## interpolate y values\n",
    "print(y_interp)"
   ]
  },
  {
   "cell_type": "code",
   "execution_count": 16,
   "id": "d8493132-c816-45e3-b3d6-459d915ad728",
   "metadata": {},
   "outputs": [
    {
     "data": {
      "text/plain": [
       "<matplotlib.collections.PathCollection at 0x29f2cc8a7a0>"
      ]
     },
     "execution_count": 16,
     "metadata": {},
     "output_type": "execute_result"
    },
    {
     "data": {
      "image/png": "[encoded data removed]",
      "text/plain": [
       "<Figure size 432x288 with 1 Axes>"
      ]
     },
     "metadata": {
      "needs_background": "light"
     },
     "output_type": "display_data"
    }
   ],
   "source": [
    "plt.scatter(x_new,y_interp)"
   ]
  },
  {
   "cell_type": "markdown",
   "id": "b9695b1f-e6ed-483d-9249-deadd45130cf",
   "metadata": {},
   "source": [
    "## Cubic Interpolation With Scipy"
   ]
  },
  {
   "cell_type": "code",
   "execution_count": 17,
   "id": "e58678d8-66b6-44d4-b221-84d89cdd3c0b",
   "metadata": {},
   "outputs": [],
   "source": [
    "import numpy as np\n",
    "x=np.array([1,2,3,4,5])\n",
    "y=np.array([1,8,27,64,125])"
   ]
  },
  {
   "cell_type": "code",
   "execution_count": 18,
   "id": "d41a943f-f122-4e34-ace2-aecc918156aa",
   "metadata": {},
   "outputs": [],
   "source": [
    "from scipy.interpolate import interp1d"
   ]
  },
  {
   "cell_type": "code",
   "execution_count": 19,
   "id": "34cc02de-cf99-409c-ada7-21f8b2fc6a38",
   "metadata": {},
   "outputs": [],
   "source": [
    "##create a cubic interpolation function\n",
    "f=interp1d(x,y,kind='cubic')"
   ]
  },
  {
   "cell_type": "code",
   "execution_count": 20,
   "id": "0fe7f3ed-6847-4286-a6da-a26f59b16029",
   "metadata": {},
   "outputs": [
    {
     "name": "stdout",
     "output_type": "stream",
     "text": [
      "[  1.           3.01371742   6.739369    12.7037037   21.43347051\n",
      "  33.45541838  49.2962963   69.48285322  94.54183813 125.        ]\n"
     ]
    }
   ],
   "source": [
    "# interpolate the data\n",
    "x_new = np.linspace(1, 5, 10)\n",
    "y_interp=f(x_new)\n",
    "print(y_interp)"
   ]
  },
  {
   "cell_type": "code",
   "execution_count": 21,
   "id": "2cd236c3-09b4-4fdf-9dab-d7cf3b2691c6",
   "metadata": {},
   "outputs": [
    {
     "data": {
      "text/plain": [
       "<matplotlib.collections.PathCollection at 0x29f2cce7cd0>"
      ]
     },
     "execution_count": 21,
     "metadata": {},
     "output_type": "execute_result"
    },
    {
     "data": {
      "image/png": "[encoded data removed]",
      "text/plain": [
       "<Figure size 432x288 with 1 Axes>"
      ]
     },
     "metadata": {
      "needs_background": "light"
     },
     "output_type": "display_data"
    }
   ],
   "source": [
    "plt.scatter(x,y)"
   ]
  },
  {
   "cell_type": "code",
   "execution_count": 22,
   "id": "e461b8ab-b019-4022-9203-9bd1a1265344",
   "metadata": {},
   "outputs": [
    {
     "data": {
      "text/plain": [
       "<matplotlib.collections.PathCollection at 0x29f2cd802b0>"
      ]
     },
     "execution_count": 22,
     "metadata": {},
     "output_type": "execute_result"
    },
    {
     "data": {
      "image/png": "[encoded data removed]",
      "text/plain": [
       "<Figure size 432x288 with 1 Axes>"
      ]
     },
     "metadata": {
      "needs_background": "light"
     },
     "output_type": "display_data"
    }
   ],
   "source": [
    "plt.scatter(x_new,y_interp)"
   ]
  },
  {
   "cell_type": "markdown",
   "id": "6e3d611d-b19f-4f98-b969-630346c2985e",
   "metadata": {},
   "source": [
    "## Polynomial Interpolation"
   ]
  },
  {
   "cell_type": "code",
   "execution_count": 23,
   "id": "3daff502-71e1-4d67-b09d-faa2d0be1059",
   "metadata": {},
   "outputs": [],
   "source": [
    "import numpy as np\n",
    "\n",
    "# create some sample data\n",
    "x = np.array([1, 2, 3, 4, 5])\n",
    "y = np.array([1, 4, 9, 16, 25])"
   ]
  },
  {
   "cell_type": "code",
   "execution_count": 39,
   "id": "3864b899-32bb-4abd-a213-715d7eb2fd2d",
   "metadata": {},
   "outputs": [],
   "source": [
    "# interpolate the data using polynomial interpolation\n",
    "p = np.polyfit(x, y, 4) # fit a 2nd degree polynomial to the data"
   ]
  },
  {
   "cell_type": "code",
   "execution_count": 40,
   "id": "d2a0589a-32d5-4393-9f81-037c71166aff",
   "metadata": {},
   "outputs": [
    {
     "data": {
      "text/plain": [
       "<matplotlib.collections.PathCollection at 0x29f2e0a0a00>"
      ]
     },
     "execution_count": 40,
     "metadata": {},
     "output_type": "execute_result"
    },
    {
     "data": {
      "image/png": "[encoded data removed]",
      "text/plain": [
       "<Figure size 432x288 with 1 Axes>"
      ]
     },
     "metadata": {
      "needs_background": "light"
     },
     "output_type": "display_data"
    }
   ],
   "source": [
    "x_new = np.linspace(1, 5, 10) # create new x values\n",
    "y_interp = np.polyval(p, x_new) # interpolate y values\n",
    "plt.scatter(x_new,y_interp)"
   ]
  },
  {
   "cell_type": "code",
   "execution_count": 26,
   "id": "d817c57b-aa02-4f96-8f4a-418c5f877f2e",
   "metadata": {},
   "outputs": [
    {
     "data": {
      "text/plain": [
       "<matplotlib.collections.PathCollection at 0x29f2ddb4b20>"
      ]
     },
     "execution_count": 26,
     "metadata": {},
     "output_type": "execute_result"
    },
    {
     "data": {
      "image/png": "[encoded data removed]",
      "text/plain": [
       "<Figure size 432x288 with 1 Axes>"
      ]
     },
     "metadata": {
      "needs_background": "light"
     },
     "output_type": "display_data"
    }
   ],
   "source": [
    "plt.scatter(x,y)"
   ]
  },
  {
   "cell_type": "code",
   "execution_count": 30,
   "id": "c5e55da0-5869-4e40-9b23-e4b3840e65c9",
   "metadata": {},
   "outputs": [
    {
     "data": {
      "text/plain": [
       "<matplotlib.collections.PathCollection at 0x29f2de94760>"
      ]
     },
     "execution_count": 30,
     "metadata": {},
     "output_type": "execute_result"
    },
    {
     "data": {
      "image/png": "[encoded data removed]",
      "text/plain": [
       "<Figure size 432x288 with 1 Axes>"
      ]
     },
     "metadata": {
      "needs_background": "light"
     },
     "output_type": "display_data"
    }
   ],
   "source": []
  },
  {
   "cell_type": "code",
   "execution_count": null,
   "id": "bdf29ba0-a6c8-44cc-a770-3cb5d00a8c22",
   "metadata": {},
   "outputs": [],
   "source": []
  }
 ],
 "metadata": {
  "kernelspec": {
   "display_name": "Python 3 (ipykernel)",
   "language": "python",
   "name": "python3"
  },
  "language_info": {
   "codemirror_mode": {
    "name": "ipython",
    "version": 3
   },
   "file_extension": ".py",
   "mimetype": "text/x-python",
   "name": "python",
   "nbconvert_exporter": "python",
   "pygments_lexer": "ipython3",
   "version": "3.10.2"
  }
 },
 "nbformat": 4,
 "nbformat_minor": 5
}
