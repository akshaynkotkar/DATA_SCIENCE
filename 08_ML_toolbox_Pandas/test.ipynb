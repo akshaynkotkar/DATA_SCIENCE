{
 "cells": [
  {
   "cell_type": "code",
   "execution_count": 4,
   "metadata": {},
   "outputs": [],
   "source": [
    "import pandas as pd\n",
    "\n",
    "# Specify the file path\n",
    "file_path = 'Nb0.csv'\n",
    "\n",
    "# Use pandas.read_csv to load data from the CSV file into a DataFrame\n",
    "data_frame = pd.read_csv(file_path)\n",
    "\n",
    "# Extract data from specific columns into NumPy arrays\n",
    "column1 = data_frame.iloc[:, 0].values\n",
    "column2 = data_frame.iloc[:, 1].values\n",
    "\n",
    "\n"
   ]
  },
  {
   "cell_type": "code",
   "execution_count": 5,
   "metadata": {},
   "outputs": [
    {
     "data": {
      "image/png": "[encoded data removed]",
      "text/plain": [
       "<Figure size 432x288 with 1 Axes>"
      ]
     },
     "metadata": {
      "needs_background": "light"
     },
     "output_type": "display_data"
    },
    {
     "name": "stdout",
     "output_type": "stream",
     "text": [
      "Fitted parameters:\n",
      "a: -3.045902438888932e-14, b: 1.0000000051299551, c: 240.96817092125875\n"
     ]
    }
   ],
   "source": [
    "import numpy as np\n",
    "from scipy.optimize import curve_fit\n",
    "import matplotlib.pyplot as plt\n",
    "\n",
    "\n",
    "\n",
    "# Example stress and strain data\n",
    "strain = np.array(column1)  # Replace with your strain data\n",
    "stress = np.array(column2)  # Replace with your stress data\n",
    "\n",
    "# Define a function representing the curve you want to fit\n",
    "def stress_strain_curve(strain, a, b, c):\n",
    "    return a * np.exp(b * strain) + c  # Example: Exponential curve, modify as needed\n",
    "\n",
    "# Fit the curve to the data\n",
    "params, covariance = curve_fit(stress_strain_curve, strain, stress)\n",
    "\n",
    "# Extract the fitted parameters\n",
    "a_fit, b_fit, c_fit = params\n",
    "\n",
    "# Generate points for the fitted curve\n",
    "strain_fit = np.linspace(min(strain), max(strain), 100)\n",
    "stress_fit = stress_strain_curve(strain_fit, a_fit, b_fit, c_fit)\n",
    "\n",
    "# Plotting the original data and the fitted curve\n",
    "plt.scatter(strain, stress, label='Original Data')\n",
    "plt.plot(strain_fit, stress_fit, 'r-', label='Fitted Curve')\n",
    "plt.xlabel('Strain')\n",
    "plt.ylabel('Stress')\n",
    "plt.legend()\n",
    "plt.show()\n",
    "\n",
    "print(\"Fitted parameters:\")\n",
    "print(f\"a: {a_fit}, b: {b_fit}, c: {c_fit}\")\n"
   ]
  }
 ],
 "metadata": {
  "kernelspec": {
   "display_name": "Python 3",
   "language": "python",
   "name": "python3"
  },
  "language_info": {
   "codemirror_mode": {
    "name": "ipython",
    "version": 3
   },
   "file_extension": ".py",
   "mimetype": "text/x-python",
   "name": "python",
   "nbconvert_exporter": "python",
   "pygments_lexer": "ipython3",
   "version": "3.10.2"
  }
 },
 "nbformat": 4,
 "nbformat_minor": 2
}
